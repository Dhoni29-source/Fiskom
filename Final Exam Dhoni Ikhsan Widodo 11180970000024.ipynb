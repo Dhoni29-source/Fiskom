{
 "cells": [
  {
   "cell_type": "markdown",
   "metadata": {},
   "source": [
    "# **Dhoni Ikhsan Widodo 11180970000024**"
   ]
  },
  {
   "cell_type": "code",
   "execution_count": 1,
   "metadata": {},
   "outputs": [],
   "source": [
    "# All modul are we need\n",
    "import math\n",
    "import numpy as np\n",
    "from printSoln import *\n",
    "from run_kut4 import *\n",
    "from newtonRaphson2 import *\n",
    "import matplotlib.pyplot as plt\n",
    "plt.style.use('fivethirtyeight')"
   ]
  },
  {
   "cell_type": "markdown",
   "metadata": {},
   "source": [
    "**Number 1**"
   ]
  },
  {
   "cell_type": "markdown",
   "metadata": {},
   "source": [
    "**1A**"
   ]
  },
  {
   "cell_type": "code",
   "execution_count": 2,
   "metadata": {},
   "outputs": [
    {
     "name": "stdout",
     "output_type": "stream",
     "text": [
      "The calculation results :\n",
      "\tC         \te       \ta\n",
      "[6.81929381e+03 4.05989610e-02 3.40784062e-01]\n",
      "\n",
      "Prove the same results as the problematic data\n",
      "\tR1 \t\tR2 \t\t R3\n",
      "6869.45902131624 6729.52461617053 6618.054988910258\n",
      "Hint: These approximation has same based on data problem\n"
     ]
    }
   ],
   "source": [
    "def f(x):\n",
    "    f = np.zeros(len(x))\n",
    "    \n",
    "    # State Equations\n",
    "    f[0] = x[0]/(1 + x[1]*math.sin(-(math.pi/6)+x[2])) - 6870.0\n",
    "    f[1] = x[0]/(1 + x[1]*math.sin(x[2])) - 6728.0\n",
    "    f[2] = x[0]/(1 + x[1]*math.sin((math.pi/6)+x[2])) - 6615\n",
    "    return f\n",
    "\n",
    "# First point\n",
    "x = np.array([6819.293, 0.04, 0.34]) # Initial Value\n",
    "print('The calculation results :')\n",
    "print('\\tC         \\te       \\ta')\n",
    "print(newtonRaphson2(f,x))\n",
    "\n",
    "print('\\nProve the same results as the problematic data')\n",
    "print('\\tR1 \\t\\tR2 \\t\\t R3')\n",
    "R1 = x[0]/(1 + x[1]*math.sin(-(math.pi/6)+x[2]))\n",
    "R2 = x[0]/(1 + x[1]*math.sin(x[2])) \n",
    "R3 = x[0]/(1 + x[1]*math.sin((math.pi/6)+x[2])) \n",
    "print(R1,R2,R3)\n",
    "print('Hint: These approximation has same based on data problem')"
   ]
  },
  {
   "cell_type": "markdown",
   "metadata": {},
   "source": [
    "**1B**"
   ]
  },
  {
   "cell_type": "code",
   "execution_count": 3,
   "metadata": {},
   "outputs": [
    {
     "data": {
      "image/png": "[encoded data removed]",
      "text/plain": [
       "<Figure size 432x288 with 1 Axes>"
      ]
     },
     "metadata": {
      "needs_background": "light"
     },
     "output_type": "display_data"
    }
   ],
   "source": [
    "x = np.arange(0,(2*math.pi)+math.pi/180,math.pi/180)\n",
    "j = []\n",
    "for i in range(len(x)):\n",
    "    R = 6819.293793207849/(1 + 0.04059895905774841*math.sin(x[i]+0.3407839979505349))\n",
    "    j.append(R)\n",
    "\n",
    "plt.plot(x,j,'h-g')\n",
    "plt.title('Plot of Relationship R with angles (rad)',size=15)\n",
    "plt.grid(True)\n",
    "plt.xlabel('sudut(rad)',size=12)\n",
    "plt.ylabel('R (Km)',size=12)\n",
    "plt.show()"
   ]
  },
  {
   "cell_type": "markdown",
   "metadata": {},
   "source": [
    "**1C**"
   ]
  },
  {
   "cell_type": "code",
   "execution_count": 4,
   "metadata": {},
   "outputs": [
    {
     "name": "stdout",
     "output_type": "stream",
     "text": [
      "At a minimum angle = 70.48\n",
      "The value of Rmin is = 6555.56448545018\n",
      "\n",
      "At a maximum angle = 299.91\n",
      "The value of Rmax is = 7100.043528133976\n"
     ]
    }
   ],
   "source": [
    "minim = 70.48\n",
    "maks = 299.91\n",
    "Rmin = 6819.293793207849/(1 + 0.04059895905774841*math.sin(minim+0.3407839979505349))\n",
    "Rmaks = 6819.293793207849/(1 + 0.04059895905774841*math.sin(maks+0.3407839979505349))\n",
    "\n",
    "print('At a minimum angle =',minim)\n",
    "print('The value of Rmin is =',Rmin)\n",
    "print('\\nAt a maximum angle =',maks)\n",
    "print('The value of Rmax is =',Rmaks)"
   ]
  },
  {
   "cell_type": "markdown",
   "metadata": {},
   "source": [
    "**Number 2**"
   ]
  },
  {
   "cell_type": "markdown",
   "metadata": {},
   "source": [
    "**2A**"
   ]
  },
  {
   "cell_type": "code",
   "execution_count": 5,
   "metadata": {},
   "outputs": [
    {
     "name": "stdout",
     "output_type": "stream",
     "text": [
      "We can find values of x and y\n",
      "When h = 0.01\n",
      "\n",
      "\tx   \t y[ 0 ]   \t y[ 1 ]   \t y[ 2 ]   \t y[ 3 ]  \n",
      "   0.0000e+00    0.0000e+00    4.3301e+01    0.0000e+00    2.5000e+01 \n",
      "   1.0000e-01    4.1542e+00    3.9856e+01    2.3507e+00    2.2070e+01 \n",
      "   2.0000e-01    7.9849e+00    3.6822e+01    4.4242e+00    1.9446e+01 \n",
      "   3.0000e-01    1.1530e+01    3.4135e+01    6.2486e+00    1.7083e+01 \n",
      "   4.0000e-01    1.4822e+01    3.1745e+01    7.8480e+00    1.4940e+01 \n",
      "   5.0000e-01    1.7888e+01    2.9609e+01    9.2430e+00    1.2988e+01 \n",
      "   6.0000e-01    2.0751e+01    2.7694e+01    1.0451e+01    1.1199e+01 \n",
      "   7.0000e-01    2.3433e+01    2.5968e+01    1.1487e+01    9.5508e+00 \n",
      "   8.0000e-01    2.5950e+01    2.4408e+01    1.2365e+01    8.0259e+00 \n",
      "   9.0000e-01    2.8319e+01    2.2992e+01    1.3096e+01    6.6083e+00 \n",
      "   1.0000e+00    3.0553e+01    2.1703e+01    1.3690e+01    5.2848e+00 \n",
      "   1.1000e+00    3.2663e+01    2.0526e+01    1.4156e+01    4.0441e+00 \n",
      "   1.2000e+00    3.4661e+01    1.9446e+01    1.4501e+01    2.8766e+00 \n",
      "   1.3000e+00    3.6555e+01    1.8453e+01    1.4733e+01    1.7741e+00 \n",
      "   1.4000e+00    3.8354e+01    1.7536e+01    1.4858e+01    7.2979e-01 \n",
      "   1.5000e+00    4.0065e+01    1.6687e+01    1.4881e+01   -2.6237e-01 \n",
      "   1.6000e+00    4.1694e+01    1.5898e+01    1.4807e+01   -1.2073e+00 \n",
      "   1.7000e+00    4.3246e+01    1.5161e+01    1.4641e+01   -2.1093e+00 \n",
      "   1.8000e+00    4.4727e+01    1.4472e+01    1.4387e+01   -2.9717e+00 \n",
      "   1.9000e+00    4.6142e+01    1.3825e+01    1.4048e+01   -3.7973e+00 \n",
      "   2.0000e+00    4.7494e+01    1.3214e+01    1.3628e+01   -4.5886e+00 \n",
      "   2.1000e+00    4.8786e+01    1.2637e+01    1.3131e+01   -5.3473e+00 \n",
      "   2.2000e+00    5.0022e+01    1.2090e+01    1.2560e+01   -6.0750e+00 \n",
      "   2.3000e+00    5.1205e+01    1.1569e+01    1.1917e+01   -6.7727e+00 \n",
      "   2.4000e+00    5.2337e+01    1.1072e+01    1.1206e+01   -7.4414e+00 \n",
      "   2.5000e+00    5.3420e+01    1.0598e+01    1.0430e+01   -8.0819e+00 \n",
      "   2.6000e+00    5.4457e+01    1.0143e+01    9.5909e+00   -8.6948e+00 \n",
      "   2.7000e+00    5.5449e+01    9.7075e+00    8.6919e+00   -9.2807e+00 \n",
      "   2.8000e+00    5.6399e+01    9.2891e+00    7.7356e+00   -9.8401e+00 \n",
      "   2.9000e+00    5.7308e+01    8.8871e+00    6.7247e+00   -1.0373e+01 \n",
      "   3.0000e+00    5.8177e+01    8.5005e+00    5.6618e+00   -1.0881e+01 \n",
      "   3.0000e+00    5.8177e+01    8.5005e+00    5.6618e+00   -1.0881e+01 \n"
     ]
    }
   ],
   "source": [
    "theta = math.pi/6\n",
    "def F(x,y):\n",
    "    F = np.zeros(4)\n",
    "    \n",
    "    # State Equations\n",
    "    v = np.sqrt((y[1])**2 + (y[3])**2)\n",
    "    F[0] = y[1]\n",
    "    F[1] = -(0.03/0.25) *y[1] * np.sqrt(v)\n",
    "    F[2] = y[3]\n",
    "    F[3] = -(0.03/0.25)* y[3] * np.sqrt(v) - 9.80665\n",
    "    return F\n",
    "\n",
    "x = 0.0 # start value of x\n",
    "xStop = 3.0 # End value of x\n",
    "y = np.array([0.0,50.0*math.cos(theta),0.0,50.0*math.sin(theta)])\n",
    "h = 0.01\n",
    "freq = 10\n",
    "\n",
    "X,Y = integrate(F,x,y,xStop,h)\n",
    "print('We can find values of x and y')\n",
    "print('When h =',h)\n",
    "printSoln(X,Y,freq)"
   ]
  },
  {
   "cell_type": "markdown",
   "metadata": {},
   "source": [
    "**2B**"
   ]
  },
  {
   "cell_type": "code",
   "execution_count": 6,
   "metadata": {},
   "outputs": [
    {
     "data": {
      "image/png": "[encoded data removed]",
      "text/plain": [
       "<Figure size 432x288 with 1 Axes>"
      ]
     },
     "metadata": {
      "needs_background": "light"
     },
     "output_type": "display_data"
    }
   ],
   "source": [
    "Y0 = np.zeros(len(Y))\n",
    "Y1 = np.zeros(len(Y))\n",
    "Y2 = np.zeros(len(Y))\n",
    "Y3 = np.zeros(len(Y))\n",
    "for i in range (len(Y)) :\n",
    "    Y0[i] = Y[i][0]\n",
    "    Y1[i] = Y[i][1]\n",
    "    Y2[i] = Y[i][2]\n",
    "    Y3[i] = Y[i][3]\n",
    "\n",
    "function = np.vectorize(lambda t: t <= 0.001 and t >= -0.00001)\n",
    "X[function(Y2)]\n",
    "\n",
    "plt.plot(X,Y,'h-')\n",
    "plt.title('Plot x, y as a function of t',size=15)\n",
    "plt.legend(('x', 'x`', 'y', 'y`'))\n",
    "plt.grid(True)\n",
    "plt.show()"
   ]
  },
  {
   "cell_type": "markdown",
   "metadata": {},
   "source": [
    "**This function to determine C and D**\n",
    "\n",
    "**2C**"
   ]
  },
  {
   "cell_type": "code",
   "execution_count": 7,
   "metadata": {},
   "outputs": [
    {
     "name": "stdout",
     "output_type": "stream",
     "text": [
      "Time, when the ball hit the ground at R =  3.473200000002905 second\n",
      "maximum distance =  61.79978694369559 meter\n"
     ]
    }
   ],
   "source": [
    "theta = math.pi/6\n",
    "def F(x,y):\n",
    "    F = np.zeros(4)\n",
    "    #State Equations\n",
    "    v = np.sqrt((y[1])**2 + (y[3])**2)\n",
    "    F[0] = y[1]\n",
    "    F[1] = -(0.03/0.25) *y[1] * np.sqrt(v)\n",
    "    F[2] = y[3]\n",
    "    F[3] = -(0.03/0.25)* y[3] * np.sqrt(v) - 9.80665\n",
    "    return F\n",
    "\n",
    "x = 0.0 # start value of x\n",
    "xStop = 3.5 # End value of x\n",
    "y = np.array([0.0,50.0*math.cos(theta),0.0,50.0*math.sin(theta)]) # initial Value\n",
    "h = 0.0001\n",
    "freq = 1\n",
    "X,Y = integrate(F,x,y,xStop,h)\n",
    "\n",
    "Y0 = np.zeros(len(Y))\n",
    "Y1 = np.zeros(len(Y))\n",
    "Y2 = np.zeros(len(Y))\n",
    "Y3 = np.zeros(len(Y))\n",
    "for i in range (len(Y)) :\n",
    "    Y0[i] = Y[i][0]\n",
    "    Y1[i] = Y[i][1]\n",
    "    Y2[i] = Y[i][2]\n",
    "    Y3[i] = Y[i][3]\n",
    "    \n",
    "funct = np.vectorize(lambda t: t <= 0.001 and t >= -0.00001)\n",
    "X[funct(Y2)]\n",
    "\n",
    "funct = np.vectorize(lambda t: t <= 0.001 and t >= -0.00001)\n",
    "a = np.array(X[funct(Y2)])\n",
    "print('Time, when the ball hit the ground at R = ',a[1],'second')\n",
    "\n",
    "function = np.vectorize(lambda t: t == a[1] )\n",
    "b = np.array(Y0[function(X)])\n",
    "print('maximum distance = ',b[0],'meter')"
   ]
  },
  {
   "cell_type": "markdown",
   "metadata": {},
   "source": [
    "**2D**"
   ]
  },
  {
   "cell_type": "code",
   "execution_count": 8,
   "metadata": {},
   "outputs": [
    {
     "name": "stdout",
     "output_type": "stream",
     "text": [
      "Maximum high = 16.90995353325409 meter\n"
     ]
    }
   ],
   "source": [
    "func = np.vectorize(lambda t: t <= 0.001 and t >= -0.00001)\n",
    "b = np.array(Y1[func(Y3)])\n",
    "print('Maximum high =',b[0],'meter')"
   ]
  },
  {
   "cell_type": "markdown",
   "metadata": {},
   "source": [
    "**2E**"
   ]
  },
  {
   "cell_type": "code",
   "execution_count": 9,
   "metadata": {},
   "outputs": [
    {
     "data": {
      "image/png": "[encoded data removed]",
      "text/plain": [
       "<Figure size 432x288 with 1 Axes>"
      ]
     },
     "metadata": {},
     "output_type": "display_data"
    }
   ],
   "source": [
    "v = np.sqrt(Y1**2 + Y3**2)\n",
    "plt.style.use('fivethirtyeight')\n",
    "plt.plot(X,v,'.-g')\n",
    "plt.title('Plot the Velocity as a function of Time',size=15)\n",
    "plt.xlabel('Time (s)',size=12)\n",
    "plt.ylabel('Velocity (m/s)',size=12)\n",
    "plt.grid(True)\n",
    "plt.show()"
   ]
  }
 ],
 "metadata": {
  "kernelspec": {
   "display_name": "Python 3",
   "language": "python",
   "name": "python3"
  },
  "language_info": {
   "codemirror_mode": {
    "name": "ipython",
    "version": 3
   },
   "file_extension": ".py",
   "mimetype": "text/x-python",
   "name": "python",
   "nbconvert_exporter": "python",
   "pygments_lexer": "ipython3",
   "version": "3.7.3"
  }
 },
 "nbformat": 4,
 "nbformat_minor": 2
}
